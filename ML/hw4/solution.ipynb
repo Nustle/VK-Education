{
 "cells": [
  {
   "cell_type": "code",
   "execution_count": 268,
   "id": "87fe1b62-d57d-4d8c-a5a6-7f6c3b121598",
   "metadata": {},
   "outputs": [],
   "source": [
    "import re\n",
    "import hashlib\n",
    "import pandas as pd\n",
    "import numpy as np\n",
    "from scipy.sparse import csr_matrix, hstack\n",
    "\n",
    "from sklearn.feature_extraction.text import TfidfVectorizer, HashingVectorizer\n",
    "from sklearn.linear_model import LogisticRegression\n",
    "from sklearn.metrics import precision_score, recall_score, f1_score\n",
    "from sklearn.model_selection import train_test_split"
   ]
  },
  {
   "cell_type": "code",
   "execution_count": 269,
   "id": "00b78587-923c-4983-ac3b-37ebd7be0976",
   "metadata": {},
   "outputs": [],
   "source": [
    "path_to_train = \"train.csv\"\n",
    "path_to_test = \"test.csv\""
   ]
  },
  {
   "cell_type": "code",
   "execution_count": 270,
   "id": "574fa1b9-c60e-4e90-8d50-21e2859ff587",
   "metadata": {},
   "outputs": [
    {
     "data": {
      "text/plain": [
       "((135309, 4), (165378, 3))"
      ]
     },
     "execution_count": 270,
     "metadata": {},
     "output_type": "execute_result"
    }
   ],
   "source": [
    "dataset_train = pd.read_csv(path_to_train)\n",
    "dataset_test = pd.read_csv(path_to_test)\n",
    "dataset_train.shape, dataset_test.shape"
   ]
  },
  {
   "cell_type": "code",
   "execution_count": 290,
   "id": "325604ed-7ddc-4f0e-a3f1-0706d59e26e8",
   "metadata": {},
   "outputs": [
    {
     "data": {
      "text/html": [
       "<div>\n",
       "<style scoped>\n",
       "    .dataframe tbody tr th:only-of-type {\n",
       "        vertical-align: middle;\n",
       "    }\n",
       "\n",
       "    .dataframe tbody tr th {\n",
       "        vertical-align: top;\n",
       "    }\n",
       "\n",
       "    .dataframe thead th {\n",
       "        text-align: right;\n",
       "    }\n",
       "</style>\n",
       "<table border=\"1\" class=\"dataframe\">\n",
       "  <thead>\n",
       "    <tr style=\"text-align: right;\">\n",
       "      <th></th>\n",
       "      <th>ID</th>\n",
       "      <th>url</th>\n",
       "      <th>title</th>\n",
       "    </tr>\n",
       "  </thead>\n",
       "  <tbody>\n",
       "    <tr>\n",
       "      <th>0</th>\n",
       "      <td>135309</td>\n",
       "      <td>www.kommersant.ru</td>\n",
       "      <td>Шестой кассационный суд в Самаре начнет работу...</td>\n",
       "    </tr>\n",
       "    <tr>\n",
       "      <th>1</th>\n",
       "      <td>135310</td>\n",
       "      <td>urexpert.online</td>\n",
       "      <td>Что такое индексация алиментов, кем и в каких ...</td>\n",
       "    </tr>\n",
       "    <tr>\n",
       "      <th>2</th>\n",
       "      <td>135311</td>\n",
       "      <td>imperimeha.ru</td>\n",
       "      <td>Женщинам | Империя Меха - Part 12</td>\n",
       "    </tr>\n",
       "    <tr>\n",
       "      <th>3</th>\n",
       "      <td>135312</td>\n",
       "      <td>national-porn.com</td>\n",
       "      <td>Небритые, волосатые киски: Порно всех стран и ...</td>\n",
       "    </tr>\n",
       "    <tr>\n",
       "      <th>4</th>\n",
       "      <td>135313</td>\n",
       "      <td>2gis.ru</td>\n",
       "      <td>67</td>\n",
       "    </tr>\n",
       "    <tr>\n",
       "      <th>5</th>\n",
       "      <td>135314</td>\n",
       "      <td>ryazan.gorodrabot.ru</td>\n",
       "      <td>Вакансия Мерчендайзер визитный в Рязани, Групп...</td>\n",
       "    </tr>\n",
       "    <tr>\n",
       "      <th>6</th>\n",
       "      <td>135315</td>\n",
       "      <td>m.fotosklad.ru</td>\n",
       "      <td>Смартфон Apple iPhone XR 64GB Черный A2105 EU ...</td>\n",
       "    </tr>\n",
       "    <tr>\n",
       "      <th>7</th>\n",
       "      <td>135316</td>\n",
       "      <td>sim-dealer.ru</td>\n",
       "      <td>Духовой шкаф Siemens HB337GYS0R - Sim-Dealer. ...</td>\n",
       "    </tr>\n",
       "    <tr>\n",
       "      <th>8</th>\n",
       "      <td>135317</td>\n",
       "      <td>krasnoyarsk.hh.ru</td>\n",
       "      <td>Вакансия Аналитик Департамента внедрения инфор...</td>\n",
       "    </tr>\n",
       "    <tr>\n",
       "      <th>9</th>\n",
       "      <td>135318</td>\n",
       "      <td>vsetop.org</td>\n",
       "      <td>Anomaly Defenders v1.0 – торрент</td>\n",
       "    </tr>\n",
       "  </tbody>\n",
       "</table>\n",
       "</div>"
      ],
      "text/plain": [
       "       ID                   url  \\\n",
       "0  135309     www.kommersant.ru   \n",
       "1  135310       urexpert.online   \n",
       "2  135311         imperimeha.ru   \n",
       "3  135312     national-porn.com   \n",
       "4  135313               2gis.ru   \n",
       "5  135314  ryazan.gorodrabot.ru   \n",
       "6  135315        m.fotosklad.ru   \n",
       "7  135316         sim-dealer.ru   \n",
       "8  135317     krasnoyarsk.hh.ru   \n",
       "9  135318            vsetop.org   \n",
       "\n",
       "                                               title  \n",
       "0  Шестой кассационный суд в Самаре начнет работу...  \n",
       "1  Что такое индексация алиментов, кем и в каких ...  \n",
       "2                  Женщинам | Империя Меха - Part 12  \n",
       "3  Небритые, волосатые киски: Порно всех стран и ...  \n",
       "4                                                 67  \n",
       "5  Вакансия Мерчендайзер визитный в Рязани, Групп...  \n",
       "6  Смартфон Apple iPhone XR 64GB Черный A2105 EU ...  \n",
       "7  Духовой шкаф Siemens HB337GYS0R - Sim-Dealer. ...  \n",
       "8  Вакансия Аналитик Департамента внедрения инфор...  \n",
       "9                   Anomaly Defenders v1.0 – торрент  "
      ]
     },
     "execution_count": 290,
     "metadata": {},
     "output_type": "execute_result"
    }
   ],
   "source": [
    "dataset_test.head(10)"
   ]
  },
  {
   "cell_type": "markdown",
   "id": "10148d27-b9fb-49e7-a852-fedfce0c65f5",
   "metadata": {},
   "source": [
    "# 1. tf-idf для фичи title"
   ]
  },
  {
   "cell_type": "markdown",
   "id": "590f093b-db90-40f6-a8f4-e9bc6bae33d9",
   "metadata": {},
   "source": [
    "Сначала попробуем оставить только title, т.к. он содержит в себе наибольшее количество информации. Векторизуем title при помощи tf-idf.\n",
    "\n",
    "Предварительно уберём все строки, имеющие пустой title."
   ]
  },
  {
   "cell_type": "code",
   "execution_count": 272,
   "id": "0835a4a7-b8a3-44c8-b1cc-8c7d25f710ee",
   "metadata": {},
   "outputs": [
    {
     "name": "stdout",
     "output_type": "stream",
     "text": [
      "          ID        url title  label\n",
      "78497  78497  jpg-1.com   NaN      0\n"
     ]
    }
   ],
   "source": [
    "missing_rows = dataset_train[dataset_train['title'].isnull()]\n",
    "print(missing_rows)"
   ]
  },
  {
   "cell_type": "code",
   "execution_count": 273,
   "id": "76e8fc43-7f22-4767-9e8a-288ac5146b7b",
   "metadata": {},
   "outputs": [],
   "source": [
    "dataset_train = dataset_train.dropna(subset=[\"title\"])\n",
    "x_train, x_test, y_train, y_test = train_test_split(dataset_train[\"title\"], dataset_train[\"label\"], \n",
    "                                                    test_size=0.2, random_state=42)"
   ]
  },
  {
   "cell_type": "code",
   "execution_count": 274,
   "id": "9c2ae165-5f37-4a31-81d1-3ac60cc14bf5",
   "metadata": {},
   "outputs": [
    {
     "name": "stdout",
     "output_type": "stream",
     "text": [
      "CPU times: user 1.27 s, sys: 55.3 ms, total: 1.33 s\n",
      "Wall time: 1.33 s\n"
     ]
    }
   ],
   "source": [
    "%%time\n",
    "vectorizer = TfidfVectorizer()\n",
    "x_train_vect = vectorizer.fit_transform(x_train)\n",
    "x_test_vect = vectorizer.transform(x_test)"
   ]
  },
  {
   "cell_type": "code",
   "execution_count": 275,
   "id": "9ea413fa-edb3-411e-bf74-e60769828ab5",
   "metadata": {},
   "outputs": [
    {
     "data": {
      "text/plain": [
       "((108246, 164677), (108246,))"
      ]
     },
     "execution_count": 275,
     "metadata": {},
     "output_type": "execute_result"
    }
   ],
   "source": [
    "(x_train_vect.shape, y_train.shape) #164 677 фич"
   ]
  },
  {
   "cell_type": "code",
   "execution_count": 276,
   "id": "3aa691b0-793f-4681-88f6-cb9554c7c60a",
   "metadata": {},
   "outputs": [],
   "source": [
    "clf = LogisticRegression(penalty=\"l2\")"
   ]
  },
  {
   "cell_type": "code",
   "execution_count": 277,
   "id": "dc152460-a588-4383-a687-43a9d84166bf",
   "metadata": {
    "scrolled": true
   },
   "outputs": [
    {
     "name": "stdout",
     "output_type": "stream",
     "text": [
      "Precision: 0.984\n",
      "Recall: 0.852\n",
      "F1: 0.914\n",
      "CPU times: user 5.61 s, sys: 1.49 s, total: 7.1 s\n",
      "Wall time: 1.03 s\n"
     ]
    }
   ],
   "source": [
    "%%time\n",
    "clf.fit(x_train_vect, y_train)\n",
    "predicted = clf.predict(x_test_vect)\n",
    "print(\"Precision: %.3f\" % precision_score(Y_test, predicted))\n",
    "print(\"Recall: %.3f\" % recall_score(Y_test, predicted))\n",
    "print(\"F1: %.3f\" % f1_score(Y_test, predicted))"
   ]
  },
  {
   "cell_type": "markdown",
   "id": "f4a9cc3f-b5a8-472a-b64c-59bc182f5c31",
   "metadata": {},
   "source": [
    "Как видим, F1-score уже > 0.911, то есть такой простой подход уже показывает хороший результат"
   ]
  },
  {
   "cell_type": "markdown",
   "id": "b979269b-c88a-4544-b863-4733593d9b4c",
   "metadata": {},
   "source": [
    "# 2. tf-idf для конкатенации title и url"
   ]
  },
  {
   "cell_type": "markdown",
   "id": "0b5fec0d-df87-40f8-8c54-7454a8e59877",
   "metadata": {},
   "source": [
    "Попробуем сконкатенировать title с url. Получим новую фичу, которая имеет большее количество \"триггерных\" токенов по сравнению с title.\n",
    "\n",
    "Вернём в датасет удалённые строки"
   ]
  },
  {
   "cell_type": "code",
   "execution_count": 278,
   "id": "161e3d1d-617a-4ac3-8108-b3dcba9de456",
   "metadata": {},
   "outputs": [
    {
     "data": {
      "text/plain": [
       "(135309, 4)"
      ]
     },
     "execution_count": 278,
     "metadata": {},
     "output_type": "execute_result"
    }
   ],
   "source": [
    "dataset_train = pd.concat([dataset_train, missing_rows])\n",
    "dataset_train = dataset_train.sort_index()\n",
    "dataset_train.shape"
   ]
  },
  {
   "cell_type": "code",
   "execution_count": 279,
   "id": "67cc5f3b-a922-4f16-bacc-45bd3184f116",
   "metadata": {},
   "outputs": [],
   "source": [
    "dataset_train[\"title_url\"] = np.where(\n",
    "    dataset_train[\"title\"].isnull(), \n",
    "    dataset_train[\"url\"], \n",
    "    dataset_train[\"title\"] + \" \" + dataset_train[\"url\"]\n",
    ")\n",
    "x_train, x_test, y_train, y_test = train_test_split(dataset_train[\"title_url\"], dataset_train[\"label\"], \n",
    "                                                    test_size=0.2, random_state=42)"
   ]
  },
  {
   "cell_type": "code",
   "execution_count": 280,
   "id": "23f12900-c654-4f15-a75a-80783459b439",
   "metadata": {},
   "outputs": [
    {
     "data": {
      "text/plain": [
       "36898     Амиксидин: продажа, цена в Санкт-Петербурге. м...\n",
       "69667                        Ультрасет new samara.farfor.ru\n",
       "111124    Lada Vesta Cross: видеообзор с презентации сер...\n",
       "35818     Фрезерный станок Моделист CNC-6090AL 600х900мм...\n",
       "123149    Популярное порно по просмотрам - порнуха попул...\n",
       "108474    Вакансия Водитель-экспедитор (м. Динамо) в Дол...\n",
       "52553     Сообщишь ударение, как правильно пишется слово...\n",
       "46513     Методика обучения чтению и русскому языку в на...\n",
       "7328      Фальшивые кумиры окраин — Новые Русские Новост...\n",
       "130863    Photoshop CC для начинающих 2017 Роберт Шаффлб...\n",
       "Name: title_url, dtype: object"
      ]
     },
     "execution_count": 280,
     "metadata": {},
     "output_type": "execute_result"
    }
   ],
   "source": [
    "x_train.head(10)"
   ]
  },
  {
   "cell_type": "code",
   "execution_count": 281,
   "id": "1dcc0298-953b-4915-b45a-e59e054c55c9",
   "metadata": {},
   "outputs": [
    {
     "name": "stdout",
     "output_type": "stream",
     "text": [
      "CPU times: user 978 ms, sys: 14.8 ms, total: 992 ms\n",
      "Wall time: 997 ms\n"
     ]
    }
   ],
   "source": [
    "%%time\n",
    "hashing_vectorizer_sklearn = HashingVectorizer(n_features=350000)\n",
    "x_train_vect = hashing_vectorizer_sklearn.fit_transform(x_train)\n",
    "x_test_vect = hashing_vectorizer_sklearn.transform(x_test)"
   ]
  },
  {
   "cell_type": "code",
   "execution_count": 282,
   "id": "47358fd6-06a8-4b7d-b98c-f7b640444a01",
   "metadata": {},
   "outputs": [
    {
     "name": "stdout",
     "output_type": "stream",
     "text": [
      "Precision: 0.123\n",
      "Recall: 0.108\n",
      "F1: 0.115\n"
     ]
    }
   ],
   "source": [
    "clf.fit(x_train_vect, y_train)\n",
    "predicted = clf.predict(x_test_vect)\n",
    "print(\"Precision: %.3f\" % precision_score(Y_test, predicted))\n",
    "print(\"Recall: %.3f\" % recall_score(Y_test, predicted))\n",
    "print(\"F1: %.3f\" % f1_score(Y_test, predicted))"
   ]
  },
  {
   "cell_type": "code",
   "execution_count": null,
   "id": "c7ce09cb-4d0d-444b-beb0-af374cbc287f",
   "metadata": {},
   "outputs": [],
   "source": [
    "А начиналось так красиво! Значит необработанный url всё портит."
   ]
  },
  {
   "cell_type": "markdown",
   "id": "3d7adcbc-7dc6-42f0-b32f-bf4c385665f8",
   "metadata": {},
   "source": [
    "# 3. tf-idf для конкатенации title + список триггерных слов для url\n",
    "\n",
    "Заведём словарь слов, связанных с порнографией. Сделаем из него регулярку, которую будем метчить с url."
   ]
  },
  {
   "cell_type": "code",
   "execution_count": 283,
   "id": "8b36975a-3270-4666-96ee-858f425db045",
   "metadata": {},
   "outputs": [],
   "source": [
    "triggers = {\"porn\", \"xxx\", \"sex\", \"adult\", \"blowjob\", \"milf\", \"fuck\", \"dick\", \"pussy\", \"18+\", \"erotic\", \"masturbation\",\n",
    "\"nude\", \"explicit\", \"rape\", \"cum\", \"condom\", \"orgasm\", \"hotwife\", \"genital\", \"nudie\"}\n",
    "\n",
    "pattern_str = \"|\".join(map(re.escape, triggers))\n",
    "trigger_pattern = re.compile(pattern_str, flags=re.IGNORECASE)"
   ]
  },
  {
   "cell_type": "code",
   "execution_count": 284,
   "id": "706150e5-e657-467d-bcc9-5883be74e2a2",
   "metadata": {},
   "outputs": [
    {
     "name": "stdout",
     "output_type": "stream",
     "text": [
      "            ID                url  \\\n",
      "12          12      pornmult.info   \n",
      "52          52    desixxxtube.pro   \n",
      "55          55        daftsex.com   \n",
      "57          57   dohera-porno.net   \n",
      "111        111        daftsex.com   \n",
      "...        ...                ...   \n",
      "135214  135214   ruporno-seks.com   \n",
      "135239  135239      pornotwix.com   \n",
      "135253  135253         sexlib.org   \n",
      "135256  135256  pakistanporn.info   \n",
      "135287  135287         sexlib.org   \n",
      "\n",
      "                                                    title  label  \\\n",
      "12      кримпай,мать и сын » Страница 5 » смотреть пор...      1   \n",
      "52      Indian aunty bjowjob and fucking with her part...      1   \n",
      "55                             Playlist Lesbian — DaftSex      1   \n",
      "57      Порно видео №309 - эротические фильмы с малоле...      1   \n",
      "111                            Charlie Red Anal – DaftSex      1   \n",
      "...                                                   ...    ...   \n",
      "135214  Привлекательная худышка залезла на белый диван...      1   \n",
      "135239            Two titted blondes enjoy big cock Negra      1   \n",
      "135253  Все рассказы про: «Первое знакомство с сексом»...      1   \n",
      "135256         Food wild indian tube on Pakistanporn.info      1   \n",
      "135287  Гарри Поттер и секс в волшебном мире. Часть 3 ...      1   \n",
      "\n",
      "                                                title_url  trigger_url  \n",
      "12      кримпай,мать и сын » Страница 5 » смотреть пор...            1  \n",
      "52      Indian aunty bjowjob and fucking with her part...            1  \n",
      "55                 Playlist Lesbian — DaftSex daftsex.com            1  \n",
      "57      Порно видео №309 - эротические фильмы с малоле...            1  \n",
      "111                Charlie Red Anal – DaftSex daftsex.com            1  \n",
      "...                                                   ...          ...  \n",
      "135214  Привлекательная худышка залезла на белый диван...            1  \n",
      "135239  Two titted blondes enjoy big cock Negra pornot...            1  \n",
      "135253  Все рассказы про: «Первое знакомство с сексом»...            1  \n",
      "135256  Food wild indian tube on Pakistanporn.info pak...            1  \n",
      "135287  Гарри Поттер и секс в волшебном мире. Часть 3 ...            1  \n",
      "\n",
      "[7578 rows x 6 columns]\n"
     ]
    }
   ],
   "source": [
    "dataset_train[\"trigger_url\"] = dataset_train[\"url\"].apply(lambda x: len(trigger_pattern.findall(x)))\n",
    "whoops_rows = dataset_train[dataset_train[\"trigger_url\"] != 0]\n",
    "print(whoops_rows)"
   ]
  },
  {
   "cell_type": "markdown",
   "id": "f7640a64-f76f-4bf9-beca-6a81acf6ee5d",
   "metadata": {},
   "source": [
    "Видно, что url, содержащих слова с порнографией, не так уж и мало. "
   ]
  },
  {
   "cell_type": "code",
   "execution_count": 285,
   "id": "020cb358-30ee-42f9-b3e6-bc1b6b4b3f0e",
   "metadata": {},
   "outputs": [],
   "source": [
    "dataset_train = dataset_train.dropna(subset=[\"title\"])\n",
    "x_train, x_test, y_train, y_test = train_test_split(dataset_train[[\"title\", \"trigger_url\"]], dataset_train[\"label\"], \n",
    "                                                    test_size=0.2, random_state=42)"
   ]
  },
  {
   "cell_type": "code",
   "execution_count": null,
   "id": "01c90aab-cce1-48e9-be39-660202f73617",
   "metadata": {},
   "outputs": [],
   "source": []
  },
  {
   "cell_type": "markdown",
   "id": "8db3634e-f203-4fdd-9e1a-659b5a74cbce",
   "metadata": {},
   "source": [
    "Сначала векторизуем с помощью tf-idf title как в пункте 1. А затем добавим столбец с бинарным признаком trigger_url, который показывает, встретилось ли триггерное слово в url или нет."
   ]
  },
  {
   "cell_type": "code",
   "execution_count": 286,
   "id": "c1cfab3f-4de9-46be-bdf9-7e65562c3504",
   "metadata": {},
   "outputs": [
    {
     "name": "stdout",
     "output_type": "stream",
     "text": [
      "CPU times: user 1.26 s, sys: 51.2 ms, total: 1.31 s\n",
      "Wall time: 1.31 s\n"
     ]
    }
   ],
   "source": [
    "%%time\n",
    "vectorizer = TfidfVectorizer()\n",
    "x_train_title_vect = vectorizer.fit_transform(x_train[\"title\"])\n",
    "x_test_title_vect = vectorizer.transform(x_test[\"title\"])\n",
    "\n",
    "x_train_trigger_vect = csr_matrix(x_train[\"trigger_url\"].values.reshape(-1, 1))\n",
    "x_test_trigger_vect = csr_matrix(x_test[\"trigger_url\"].values.reshape(-1, 1))\n",
    "\n",
    "x_train_vect = hstack([x_train_title_vect, x_train_trigger_vect])\n",
    "x_test_vect = hstack([x_test_title_vect, x_test_trigger_vect])"
   ]
  },
  {
   "cell_type": "code",
   "execution_count": 287,
   "id": "83d10f7f-9c30-4ce8-9211-b2206efce5f2",
   "metadata": {},
   "outputs": [
    {
     "data": {
      "text/plain": [
       "((108246, 164678), (108246,))"
      ]
     },
     "execution_count": 287,
     "metadata": {},
     "output_type": "execute_result"
    }
   ],
   "source": [
    "(x_train_vect.shape, y_train.shape)"
   ]
  },
  {
   "cell_type": "code",
   "execution_count": 288,
   "id": "802cdc66-feee-4d30-96f2-095a2a52f92a",
   "metadata": {},
   "outputs": [
    {
     "name": "stdout",
     "output_type": "stream",
     "text": [
      "Precision: 0.991\n",
      "Recall: 0.896\n",
      "F1: 0.941\n"
     ]
    }
   ],
   "source": [
    "clf.fit(x_train_vect, y_train)\n",
    "predicted = clf.predict(x_test_vect)\n",
    "print(\"Precision: %.3f\" % precision_score(Y_test, predicted))\n",
    "print(\"Recall: %.3f\" % recall_score(Y_test, predicted))\n",
    "print(\"F1: %.3f\" % f1_score(Y_test, predicted))"
   ]
  },
  {
   "cell_type": "markdown",
   "id": "3e9d73de-26fa-4e4d-957a-e99a575fb474",
   "metadata": {},
   "source": [
    "F1-score улучшился на 3%. Исходя из этого, выберем именно эту модель для предсказания на тестовой выборке из kaggle."
   ]
  },
  {
   "cell_type": "markdown",
   "id": "cd349bcf-30a8-4bca-9a59-d16423b0a921",
   "metadata": {},
   "source": [
    "# 4. Итоговое решение и сохранение результата в sample_submission.csv\n"
   ]
  },
  {
   "cell_type": "code",
   "execution_count": 293,
   "id": "d5d35dc0-15c8-4fb6-88cc-11b5d63cfe2e",
   "metadata": {},
   "outputs": [],
   "source": [
    "dataset_test[\"trigger_url\"] = dataset_test[\"url\"].apply(lambda x: len(trigger_pattern.findall(x)))\n",
    "\n",
    "x_train, y_train = dataset_train[[\"title\", \"trigger_url\"]], dataset_train[\"label\"]\n",
    "x_test = dataset_test[[\"title\", \"trigger_url\"]]"
   ]
  },
  {
   "cell_type": "code",
   "execution_count": 295,
   "id": "1853676c-e4b6-48a1-a108-6d6c26025d01",
   "metadata": {},
   "outputs": [
    {
     "name": "stdout",
     "output_type": "stream",
     "text": [
      "CPU times: user 2.42 s, sys: 56.2 ms, total: 2.48 s\n",
      "Wall time: 2.48 s\n"
     ]
    },
    {
     "data": {
      "text/plain": [
       "((135308, 189853), (135308,))"
      ]
     },
     "execution_count": 295,
     "metadata": {},
     "output_type": "execute_result"
    }
   ],
   "source": [
    "%%time\n",
    "vectorizer = TfidfVectorizer()\n",
    "x_train_title_vect = vectorizer.fit_transform(x_train[\"title\"])\n",
    "x_test_title_vect = vectorizer.transform(x_test[\"title\"])\n",
    "\n",
    "x_train_trigger_vect = csr_matrix(x_train[\"trigger_url\"].values.reshape(-1, 1))\n",
    "x_test_trigger_vect = csr_matrix(x_test[\"trigger_url\"].values.reshape(-1, 1))\n",
    "\n",
    "x_train_vect = hstack([x_train_title_vect, x_train_trigger_vect])\n",
    "x_test_vect = hstack([x_test_title_vect, x_test_trigger_vect])\n",
    "\n",
    "(x_train_vect.shape, y_train.shape)"
   ]
  },
  {
   "cell_type": "code",
   "execution_count": 298,
   "id": "38fefeb5-8cc6-4366-af38-60707d8158cf",
   "metadata": {},
   "outputs": [],
   "source": [
    "clf.fit(x_train_vect, y_train)\n",
    "predicted = clf.predict(x_test_vect)"
   ]
  },
  {
   "cell_type": "code",
   "execution_count": 300,
   "id": "17eeaec7-b6d5-4521-af3d-c18d99a0404d",
   "metadata": {},
   "outputs": [],
   "source": [
    "submission = pd.DataFrame({\n",
    "    'ID': dataset_test['ID'],\n",
    "    'label': predicted\n",
    "})\n",
    "\n",
    "submission.to_csv('sample_submission.csv', index=False)"
   ]
  }
 ],
 "metadata": {
  "kernelspec": {
   "display_name": "Python 3 (ipykernel)",
   "language": "python",
   "name": "python3"
  },
  "language_info": {
   "codemirror_mode": {
    "name": "ipython",
    "version": 3
   },
   "file_extension": ".py",
   "mimetype": "text/x-python",
   "name": "python",
   "nbconvert_exporter": "python",
   "pygments_lexer": "ipython3",
   "version": "3.11.1"
  }
 },
 "nbformat": 4,
 "nbformat_minor": 5
}
