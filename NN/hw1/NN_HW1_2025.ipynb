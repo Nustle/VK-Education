{
 "cells": [
  {
   "cell_type": "markdown",
   "id": "YfPhAJr3jOkh",
   "metadata": {
    "id": "YfPhAJr3jOkh"
   },
   "source": [
    "# HW 1"
   ]
  },
  {
   "cell_type": "code",
   "execution_count": 2,
   "id": "8cc148dc-d83d-4c32-bbb0-3ffd82ba4e98",
   "metadata": {
    "id": "8cc148dc-d83d-4c32-bbb0-3ffd82ba4e98"
   },
   "outputs": [],
   "source": [
    "import numpy as np\n",
    "import pandas as pd\n",
    "import matplotlib.pyplot as plt\n",
    "\n",
    "from sklearn.linear_model import LinearRegression\n",
    "from sklearn.model_selection import train_test_split\n",
    "from sklearn.metrics import r2_score\n",
    "from sklearn.preprocessing import MinMaxScaler\n",
    "\n",
    "%matplotlib inline"
   ]
  },
  {
   "cell_type": "markdown",
   "id": "e3a06e1e-3bc0-4667-84f3-7e86698c3737",
   "metadata": {
    "id": "e3a06e1e-3bc0-4667-84f3-7e86698c3737"
   },
   "source": [
    "# Загружаем выборку Diamonds"
   ]
  },
  {
   "cell_type": "markdown",
   "id": "sI-cvLDCjsua",
   "metadata": {
    "id": "sI-cvLDCjsua"
   },
   "source": [
    "На данной выборке можно проверять работоспособность своего решения"
   ]
  },
  {
   "cell_type": "markdown",
   "id": "c731a143-3dc9-43e7-96f5-b1eff9093345",
   "metadata": {
    "id": "c731a143-3dc9-43e7-96f5-b1eff9093345"
   },
   "source": [
    "1. PRICE: price in US dollars (326-18,823)\n",
    "2. CARAT: weight of the diamond (0.2--5.01)\n",
    "3. CUT: quality of the cut (Fair, Good, Very Good, Premium, Ideal)\n",
    "4. COLOR: diamond colour, from J (worst) to D (best)\n",
    "5. CLARITY: a measurement of how clear the diamond is (I1 (worst), SI2, SI1, VS2, VS1, VVS2, VVS1, IF (best))\n",
    "6. X: length in mm (0--10.74)\n",
    "7. Y: width in mm (0--58.9)\n",
    "8. Z: depth in mm (0--31.8)\n",
    "9. DEPTH: total depth percentage = z / mean(x, y) = 2 * z / (x + y) (43--79)\n",
    "10. TABLE: width of top of diamond relative to widest point (43--95)"
   ]
  },
  {
   "cell_type": "code",
   "execution_count": 3,
   "id": "0f24cf86-653a-422b-9df1-8029fdccf153",
   "metadata": {
    "id": "0f24cf86-653a-422b-9df1-8029fdccf153"
   },
   "outputs": [],
   "source": [
    "diamonds_df = pd.read_csv('diamonds.csv')"
   ]
  },
  {
   "cell_type": "code",
   "execution_count": 4,
   "id": "70d9ccfe-e1cf-4c90-a5ab-40ae0852f1ce",
   "metadata": {
    "colab": {
     "base_uri": "https://localhost:8080/",
     "height": 204
    },
    "id": "70d9ccfe-e1cf-4c90-a5ab-40ae0852f1ce",
    "outputId": "48caecef-fcb9-440b-dd8b-3e4189ff9708"
   },
   "outputs": [
    {
     "data": {
      "text/html": [
       "<div>\n",
       "<style scoped>\n",
       "    .dataframe tbody tr th:only-of-type {\n",
       "        vertical-align: middle;\n",
       "    }\n",
       "\n",
       "    .dataframe tbody tr th {\n",
       "        vertical-align: top;\n",
       "    }\n",
       "\n",
       "    .dataframe thead th {\n",
       "        text-align: right;\n",
       "    }\n",
       "</style>\n",
       "<table border=\"1\" class=\"dataframe\">\n",
       "  <thead>\n",
       "    <tr style=\"text-align: right;\">\n",
       "      <th></th>\n",
       "      <th>Unnamed: 0</th>\n",
       "      <th>carat</th>\n",
       "      <th>cut</th>\n",
       "      <th>color</th>\n",
       "      <th>clarity</th>\n",
       "      <th>depth</th>\n",
       "      <th>table</th>\n",
       "      <th>price</th>\n",
       "      <th>x</th>\n",
       "      <th>y</th>\n",
       "      <th>z</th>\n",
       "    </tr>\n",
       "  </thead>\n",
       "  <tbody>\n",
       "    <tr>\n",
       "      <th>0</th>\n",
       "      <td>1</td>\n",
       "      <td>0.23</td>\n",
       "      <td>Ideal</td>\n",
       "      <td>E</td>\n",
       "      <td>SI2</td>\n",
       "      <td>61.5</td>\n",
       "      <td>55.0</td>\n",
       "      <td>326</td>\n",
       "      <td>3.95</td>\n",
       "      <td>3.98</td>\n",
       "      <td>2.43</td>\n",
       "    </tr>\n",
       "    <tr>\n",
       "      <th>1</th>\n",
       "      <td>2</td>\n",
       "      <td>0.21</td>\n",
       "      <td>Premium</td>\n",
       "      <td>E</td>\n",
       "      <td>SI1</td>\n",
       "      <td>59.8</td>\n",
       "      <td>61.0</td>\n",
       "      <td>326</td>\n",
       "      <td>3.89</td>\n",
       "      <td>3.84</td>\n",
       "      <td>2.31</td>\n",
       "    </tr>\n",
       "    <tr>\n",
       "      <th>2</th>\n",
       "      <td>3</td>\n",
       "      <td>0.23</td>\n",
       "      <td>Good</td>\n",
       "      <td>E</td>\n",
       "      <td>VS1</td>\n",
       "      <td>56.9</td>\n",
       "      <td>65.0</td>\n",
       "      <td>327</td>\n",
       "      <td>4.05</td>\n",
       "      <td>4.07</td>\n",
       "      <td>2.31</td>\n",
       "    </tr>\n",
       "    <tr>\n",
       "      <th>3</th>\n",
       "      <td>4</td>\n",
       "      <td>0.29</td>\n",
       "      <td>Premium</td>\n",
       "      <td>I</td>\n",
       "      <td>VS2</td>\n",
       "      <td>62.4</td>\n",
       "      <td>58.0</td>\n",
       "      <td>334</td>\n",
       "      <td>4.20</td>\n",
       "      <td>4.23</td>\n",
       "      <td>2.63</td>\n",
       "    </tr>\n",
       "    <tr>\n",
       "      <th>4</th>\n",
       "      <td>5</td>\n",
       "      <td>0.31</td>\n",
       "      <td>Good</td>\n",
       "      <td>J</td>\n",
       "      <td>SI2</td>\n",
       "      <td>63.3</td>\n",
       "      <td>58.0</td>\n",
       "      <td>335</td>\n",
       "      <td>4.34</td>\n",
       "      <td>4.35</td>\n",
       "      <td>2.75</td>\n",
       "    </tr>\n",
       "  </tbody>\n",
       "</table>\n",
       "</div>"
      ],
      "text/plain": [
       "   Unnamed: 0  carat      cut color clarity  depth  table  price     x     y  \\\n",
       "0           1   0.23    Ideal     E     SI2   61.5   55.0    326  3.95  3.98   \n",
       "1           2   0.21  Premium     E     SI1   59.8   61.0    326  3.89  3.84   \n",
       "2           3   0.23     Good     E     VS1   56.9   65.0    327  4.05  4.07   \n",
       "3           4   0.29  Premium     I     VS2   62.4   58.0    334  4.20  4.23   \n",
       "4           5   0.31     Good     J     SI2   63.3   58.0    335  4.34  4.35   \n",
       "\n",
       "      z  \n",
       "0  2.43  \n",
       "1  2.31  \n",
       "2  2.31  \n",
       "3  2.63  \n",
       "4  2.75  "
      ]
     },
     "execution_count": 4,
     "metadata": {},
     "output_type": "execute_result"
    }
   ],
   "source": [
    "diamonds_df.head()"
   ]
  },
  {
   "cell_type": "code",
   "execution_count": 5,
   "id": "fad21c95-f542-44ec-8f06-8f57fd42ddef",
   "metadata": {
    "colab": {
     "base_uri": "https://localhost:8080/",
     "height": 430
    },
    "id": "fad21c95-f542-44ec-8f06-8f57fd42ddef",
    "outputId": "cda66a09-590c-45b0-9ed1-1699bfddaaf9"
   },
   "outputs": [
    {
     "data": {
      "image/png": "[encoded data removed]",
      "text/plain": [
       "<Figure size 640x480 with 1 Axes>"
      ]
     },
     "metadata": {},
     "output_type": "display_data"
    }
   ],
   "source": [
    "plt.hist(diamonds_df['price'], bins=100)\n",
    "plt.grid();"
   ]
  },
  {
   "cell_type": "markdown",
   "id": "17ac44bb-86c7-424a-8b9b-0a21bf490683",
   "metadata": {
    "id": "17ac44bb-86c7-424a-8b9b-0a21bf490683"
   },
   "source": [
    "# Подготовка данных"
   ]
  },
  {
   "cell_type": "code",
   "execution_count": 6,
   "id": "e19945ea-cecf-481e-a28b-3f9c11001918",
   "metadata": {
    "id": "e19945ea-cecf-481e-a28b-3f9c11001918"
   },
   "outputs": [],
   "source": [
    "features = ['carat', 'cut', 'color', 'clarity', 'depth', 'table', 'x', 'y', 'z']\n",
    "target = ['price']"
   ]
  },
  {
   "cell_type": "code",
   "execution_count": 7,
   "id": "fbc43eb0-e77f-4765-8b0e-b9052c093855",
   "metadata": {
    "id": "fbc43eb0-e77f-4765-8b0e-b9052c093855"
   },
   "outputs": [],
   "source": [
    "cut_transform = {'Fair': 0, 'Good': 1, 'Very Good': 2, 'Premium': 3, 'Ideal': 4}\n",
    "clarity_transform = {'I1': 0, 'SI2': 1, 'SI1': 2, 'VS2': 3, 'VS1': 4, 'VVS2': 5, 'VVS1': 6, 'IF': 7}\n",
    "color_transorm = {'D': 0, 'E': 1, 'F': 2, 'G': 3, 'H': 4, 'I': 5, 'J': 6}"
   ]
  },
  {
   "cell_type": "code",
   "execution_count": 8,
   "id": "6f82b34f-9ffc-478f-a103-b2cbbca49a94",
   "metadata": {
    "id": "6f82b34f-9ffc-478f-a103-b2cbbca49a94"
   },
   "outputs": [],
   "source": [
    "diamonds_df['cut'] = diamonds_df['cut'].apply(lambda x: cut_transform.get(x))\n",
    "diamonds_df['color'] = diamonds_df['color'].apply(lambda x: color_transorm.get(x))\n",
    "diamonds_df['clarity'] = diamonds_df['clarity'].apply(lambda x: clarity_transform.get(x))"
   ]
  },
  {
   "cell_type": "code",
   "execution_count": 9,
   "id": "8e5fa82b-92ed-4e79-adf2-422204b45e82",
   "metadata": {
    "id": "8e5fa82b-92ed-4e79-adf2-422204b45e82"
   },
   "outputs": [],
   "source": [
    "X = diamonds_df[features].copy().values\n",
    "y = diamonds_df[target].values"
   ]
  },
  {
   "cell_type": "code",
   "execution_count": 10,
   "id": "64c11d68-dc5c-4753-9cc4-3cc4e136f3cb",
   "metadata": {
    "id": "64c11d68-dc5c-4753-9cc4-3cc4e136f3cb"
   },
   "outputs": [],
   "source": [
    "X_train, X_test, y_train, y_test = train_test_split(X, y, random_state=47, test_size=0.3)"
   ]
  },
  {
   "cell_type": "code",
   "execution_count": 11,
   "id": "rGU9tSuwk3Lp",
   "metadata": {
    "id": "rGU9tSuwk3Lp"
   },
   "outputs": [],
   "source": [
    "scaler = MinMaxScaler()\n",
    "X_train = scaler.fit_transform(X_train)\n",
    "X_test = scaler.transform(X_test)"
   ]
  },
  {
   "cell_type": "markdown",
   "id": "3b743ed1-d0cf-485d-b8f2-8c71fc174e8b",
   "metadata": {
    "id": "3b743ed1-d0cf-485d-b8f2-8c71fc174e8b"
   },
   "source": [
    "# Обучаем модель линейной регрессии"
   ]
  },
  {
   "cell_type": "code",
   "execution_count": 12,
   "id": "3N2iJEIuxW0H",
   "metadata": {
    "id": "3N2iJEIuxW0H"
   },
   "outputs": [],
   "source": [
    "reg = LinearRegression().fit(X_train, y_train)"
   ]
  },
  {
   "cell_type": "code",
   "execution_count": 13,
   "id": "f968e336-4049-41b2-81d1-4c24f0969bbb",
   "metadata": {
    "id": "f968e336-4049-41b2-81d1-4c24f0969bbb"
   },
   "outputs": [],
   "source": [
    "y_pred = reg.predict(X_test)"
   ]
  },
  {
   "cell_type": "code",
   "execution_count": 24,
   "id": "0952990a-b3d6-4da4-9cc6-1ab3a7a25ac7",
   "metadata": {
    "id": "0952990a-b3d6-4da4-9cc6-1ab3a7a25ac7"
   },
   "outputs": [],
   "source": [
    "score = r2_score(y_test, y_pred)"
   ]
  },
  {
   "cell_type": "code",
   "execution_count": 25,
   "id": "f89c3bbd-0a3a-48ac-b1ab-b75dc0c5bcce",
   "metadata": {
    "colab": {
     "base_uri": "https://localhost:8080/",
     "height": 452
    },
    "id": "f89c3bbd-0a3a-48ac-b1ab-b75dc0c5bcce",
    "outputId": "587de3bd-b38b-4de9-d156-ac034b9dc075"
   },
   "outputs": [
    {
     "data": {
      "image/png": "[encoded data removed]",
      "text/plain": [
       "<Figure size 640x480 with 1 Axes>"
      ]
     },
     "metadata": {},
     "output_type": "display_data"
    }
   ],
   "source": [
    "plt.title(f'R2: {str(score)[:5]}')\n",
    "plt.hist(y_pred.reshape(1, -1)[0], bins=100, label='PREDICTION')\n",
    "plt.hist(y_test.reshape(1, -1)[0], bins=100, label='GT')\n",
    "plt.legend()\n",
    "plt.grid();"
   ]
  },
  {
   "cell_type": "markdown",
   "id": "6nKJT7VRlIeU",
   "metadata": {
    "id": "6nKJT7VRlIeU"
   },
   "source": [
    "# Задание 1: Реализация Gradient Descent для модели линейной регрессии"
   ]
  },
  {
   "cell_type": "markdown",
   "id": "7UpV6l4clfwC",
   "metadata": {
    "id": "7UpV6l4clfwC"
   },
   "source": [
    "Ниже представлен шаблон кода, который необходимо дополнить, реализовав все указанные методы, и самостоятельно протестировать корректность решения. Можно (и даже нужно) добавлять свои методы для бОльшей читабельности кода\n",
    "\n",
    "Достаточно будет, чтобы код работал для случая, когда X и y - np.ndarray\n",
    "\n",
    "Внутри класса запрещается использовать сторонние библиотеки, кроме numpy"
   ]
  },
  {
   "cell_type": "code",
   "execution_count": 26,
   "id": "ohUWWybdlHYw",
   "metadata": {
    "id": "ohUWWybdlHYw"
   },
   "outputs": [],
   "source": [
    "class LinearRegressionGD:\n",
    "    def __init__(self, learning_rate=0.01, n_iter=1000):\n",
    "        self.learning_rate = learning_rate\n",
    "        self.n_iter = n_iter\n",
    "        self.tol = 0.001\n",
    "        self.random_state = 42\n",
    "        self.npr = np.random.RandomState(self.random_state)\n",
    "        self.w = None\n",
    "        self.bias = self.npr.uniform(-2, 2, size=1)[0]\n",
    "\n",
    "    def get_loss(self, X, y):\n",
    "        n = X.shape[0]\n",
    "        return (X @ self.w + self.bias - y).T @ (X @ self.w + self.bias - y) / n\n",
    "\n",
    "    def get_loss_grad(self, X, y):\n",
    "        n = X.shape[0]\n",
    "        return 2 * X.T @ (X @ self.w + self.bias - y) / n\n",
    "\n",
    "    def get_loss_grad_bias(self, X, y):\n",
    "        n = X.shape[0]\n",
    "        return 2 * (self.bias * n + np.sum(X @ self.w) - np.sum(y)) / n\n",
    "\n",
    "    def fit(self, X, y):\n",
    "        self.w = self.npr.uniform(-2, 2, size=X.shape[1])\n",
    "\n",
    "        x_train, y_train = X, np.asarray(y).ravel()\n",
    "\n",
    "        loss = self.get_loss(x_train, y_train)\n",
    "        best_loss = np.inf\n",
    "\n",
    "        current_iter = 1\n",
    "\n",
    "        while current_iter < self.n_iter \\\n",
    "                and best_loss - loss >= self.tol:\n",
    "            best_loss = loss\n",
    "\n",
    "            grad = self.get_loss_grad(x_train, y_train)\n",
    "            w_new = self.w - self.learning_rate * grad\n",
    "            self.w = w_new\n",
    "            bias_new = self.bias - self.learning_rate * self.get_loss_grad_bias(x_train, y_train)\n",
    "            self.bias = bias_new\n",
    "\n",
    "            loss = self.get_loss(x_train, y_train)\n",
    "            current_iter += 1\n",
    "\n",
    "    def predict(self, X):\n",
    "        return X @ self.w + self.bias\n",
    "\n",
    "    def get_params(self):\n",
    "        return {'weights': self.w, 'bias': self.bias}"
   ]
  },
  {
   "cell_type": "markdown",
   "id": "ebkQuLxTpTmF",
   "metadata": {
    "id": "ebkQuLxTpTmF"
   },
   "source": [
    "# Задание 2: Реализация backpropagation для MLP"
   ]
  },
  {
   "cell_type": "markdown",
   "id": "2G7W8JLzpZRf",
   "metadata": {
    "id": "2G7W8JLzpZRf"
   },
   "source": [
    "Ниже представлен шаблон кода, который необходимо дополнить, реализовав все указанные методы, и самостоятельно протестировать корректность решения. Можно (и даже нужно) добавлять свои методы для бОльшей читабельности кода\n",
    "\n",
    "Достаточно будет, чтобы код работал для случая, когда X и y - np.ndarray\n",
    "\n",
    "В качестве функции активации на внутренних слоях нужно использовать Sigmoid, а на выходе - линейную активацию f(x) = x\n",
    "\n",
    "Внутри класса запрещается использовать сторонние библиотеки, кроме numpy"
   ]
  },
  {
   "cell_type": "code",
   "execution_count": 41,
   "id": "mh30KL1jpZr5",
   "metadata": {
    "id": "mh30KL1jpZr5"
   },
   "outputs": [],
   "source": [
    "class MLPRegressor:\n",
    "    \"\"\"\n",
    "    Многослойный перцептрон (MLP) для задачи регрессии, использующий алгоритм\n",
    "    обратного распространения ошибки\n",
    "    \"\"\"\n",
    "    def __init__(self, hidden_layer_sizes=(100,), learning_rate=0.01, n_iter=100):\n",
    "        \"\"\"\n",
    "        Конструктор класса\n",
    "\n",
    "        Параметры:\n",
    "            hidden_layer_sizes (tuple): Кортеж, определяющий архитектуру\n",
    "        скрытых слоев. Например (100, 10) - два скрытых слоя, размером 100 и 10\n",
    "        нейронов, соответственно\n",
    "        \"\"\"\n",
    "        self.hidden_layer_sizes = hidden_layer_sizes\n",
    "        self.learning_rate = learning_rate\n",
    "        self.n_iter = n_iter\n",
    "        self.random_state = 47\n",
    "        self.npr = np.random.RandomState(self.random_state)\n",
    "        self.w = None\n",
    "        self.bias = self._init_bias()\n",
    "        self.activations = [None] * (len(self.hidden_layer_sizes) + 2)\n",
    "        self.z = [None] * (len(self.hidden_layer_sizes) + 1)\n",
    "\n",
    "    def _init_bias(self):\n",
    "        bias = []\n",
    "        for i in range(len(self.hidden_layer_sizes) + 1):\n",
    "            if i < len(self.hidden_layer_sizes):\n",
    "                bias_size = self.hidden_layer_sizes[i]\n",
    "            else:\n",
    "                bias_size = 1\n",
    "            bias_i = self.npr.uniform(-1, 1, size=bias_size)\n",
    "            bias.append(bias_i)\n",
    "        return bias\n",
    "\n",
    "    def _init_w(self, n_features):\n",
    "        w = []\n",
    "        w_0 = self.npr.uniform(-1, 1, size=(n_features, self.hidden_layer_sizes[0]))\n",
    "        w.append(w_0)\n",
    "        n = len(self.hidden_layer_sizes)\n",
    "        for i in range(n - 1):\n",
    "            left_i = self.hidden_layer_sizes[i]\n",
    "            right_i = self.hidden_layer_sizes[i+1]\n",
    "            w_i = self.npr.randn(left_i, right_i) * 0.01\n",
    "            w.append(w_i)\n",
    "        w_n = self.npr.uniform(-1, 1, size=(self.hidden_layer_sizes[n-1], 1))\n",
    "        w.append(w_n)\n",
    "        return w\n",
    "\n",
    "    @staticmethod\n",
    "    def sigmoid(z):\n",
    "        z = np.clip(z, -500, 500)\n",
    "        return np.where(z >= 0,\n",
    "                        1 / (1 + np.exp(-z)),\n",
    "                        np.exp(z) / (1 + np.exp(z)))\n",
    "\n",
    "    def sigmoid_derivative(self, i):\n",
    "        a = self.activations[i]\n",
    "        return a * (1 - a)\n",
    "\n",
    "    def forward(self, X):\n",
    "        curr_z = X\n",
    "        n = len(self.w)\n",
    "        self.z[0], self.activations[0] = X, X\n",
    "        for i in range(1, n):\n",
    "            z_i = curr_z @ self.w[i-1] + self.bias[i-1]\n",
    "            a_i = self.sigmoid(z_i)\n",
    "            self.z[i] = z_i\n",
    "            self.activations[i] = a_i\n",
    "            curr_z = a_i\n",
    "        a_end = curr_z @ self.w[n-1] + self.bias[n-1]\n",
    "        self.activations[n] = a_end\n",
    "\n",
    "    def backward(self, X, y):\n",
    "        y = y.reshape(-1, 1)\n",
    "        n = len(self.w)\n",
    "\n",
    "        grad_w = [None] * n\n",
    "        grad_bias = [None] * n\n",
    "\n",
    "        part_derv = 2 * (self.activations[-1] - y) / X.shape[0]\n",
    "\n",
    "        grad_w[-1] = self.activations[-2].T @ part_derv\n",
    "        grad_bias[-1] = np.sum(part_derv, axis=0)\n",
    "\n",
    "        for i in reversed(range(n - 1)):\n",
    "            part_derv = part_derv @ self.w[i + 1].T\n",
    "            part_derv = part_derv * self.sigmoid_derivative(i + 1)\n",
    "\n",
    "            grad_w[i] = self.activations[i].T @ part_derv\n",
    "            grad_bias[i] = np.sum(part_derv, axis=0)\n",
    "\n",
    "        return grad_w, grad_bias\n",
    "\n",
    "    def fit(self, X, y):\n",
    "        self.w = self._init_w(X.shape[1])\n",
    "        count_w = len(self.w)\n",
    "\n",
    "        x_train, y_train = X, y\n",
    "        current_iter = 1\n",
    "\n",
    "        while current_iter < self.n_iter:\n",
    "            self.forward(X)\n",
    "            grad_w, grad_bias = self.backward(X, y_train)\n",
    "\n",
    "            for i in range(count_w):\n",
    "                w_new = self.w[i] - self.learning_rate * grad_w[i]\n",
    "                self.w[i] = w_new\n",
    "                bias_new = self.bias[i] - self.learning_rate * grad_bias[i]\n",
    "                self.bias[i] = bias_new\n",
    "\n",
    "            current_iter += 1\n",
    "\n",
    "    def predict(self, X):\n",
    "        curr_z = X\n",
    "        n = len(self.w)\n",
    "        for i in range(n - 1):\n",
    "            z_i = curr_z @ self.w[i] + self.bias[i]\n",
    "            a_i = self.sigmoid(z_i)\n",
    "            curr_z = a_i\n",
    "        y_pred = curr_z @ self.w[n-1] + self.bias[n-1]\n",
    "        return np.asarray(y_pred).ravel()"
   ]
  },
  {
   "cell_type": "markdown",
   "id": "5dbb053a-a7fb-4252-97bd-976128d74ee1",
   "metadata": {},
   "source": [
    "# Тестирование полученного решения"
   ]
  },
  {
   "cell_type": "code",
   "execution_count": 27,
   "id": "3bec6b75-9a27-4ad1-bde7-fc42b247a6a5",
   "metadata": {},
   "outputs": [],
   "source": [
    "reg_gd = LinearRegressionGD(0.1)\n",
    "reg_gd.fit(X_train, y_train)"
   ]
  },
  {
   "cell_type": "code",
   "execution_count": 28,
   "id": "8206b0fe-5bad-4319-a0d9-7dfcfe026c10",
   "metadata": {},
   "outputs": [],
   "source": [
    "y_pred_gd = reg_gd.predict(X_test)"
   ]
  },
  {
   "cell_type": "code",
   "execution_count": 29,
   "id": "69ce5a73-9003-4d49-b931-c32fdb9d3a6b",
   "metadata": {},
   "outputs": [],
   "source": [
    "score_gd = r2_score(y_test, y_pred_gd)"
   ]
  },
  {
   "cell_type": "code",
   "execution_count": 30,
   "id": "f32bd314-6544-4370-bedd-ec5d1ee18041",
   "metadata": {},
   "outputs": [
    {
     "data": {
      "image/png": "[encoded data removed]",
      "text/plain": [
       "<Figure size 640x480 with 1 Axes>"
      ]
     },
     "metadata": {},
     "output_type": "display_data"
    }
   ],
   "source": [
    "plt.title(f'R2: {str(score_gd)[:5]}')\n",
    "plt.hist(y_pred_gd.reshape(1, -1)[0], bins=100, label='PREDICTION')\n",
    "plt.hist(y_test.reshape(1, -1)[0], bins=100, label='GT')\n",
    "plt.legend()\n",
    "plt.grid();"
   ]
  },
  {
   "cell_type": "code",
   "execution_count": 42,
   "id": "3f182dee-b872-4f05-a190-3fe286d00326",
   "metadata": {},
   "outputs": [],
   "source": [
    "reg_mlp = MLPRegressor(n_iter=1000)\n",
    "reg_mlp.fit(X_train, y_train)"
   ]
  },
  {
   "cell_type": "code",
   "execution_count": 43,
   "id": "e0f1a5c5-7b5e-4197-b5a6-f714e8ec5ff8",
   "metadata": {},
   "outputs": [],
   "source": [
    "y_pred_mlp = reg_mlp.predict(X_test)"
   ]
  },
  {
   "cell_type": "code",
   "execution_count": 44,
   "id": "abd286ce-2bf7-49cc-ac51-e1cfca0d1e1d",
   "metadata": {},
   "outputs": [],
   "source": [
    "score_mlp = r2_score(y_test, y_pred_mlp)"
   ]
  },
  {
   "cell_type": "code",
   "execution_count": 45,
   "id": "79587bcb-52cb-4c95-95b3-1d6ceef3d817",
   "metadata": {},
   "outputs": [
    {
     "data": {
      "image/png": "[encoded data removed]",
      "text/plain": [
       "<Figure size 640x480 with 1 Axes>"
      ]
     },
     "metadata": {},
     "output_type": "display_data"
    }
   ],
   "source": [
    "plt.title(f'R2: {str(score_mlp)[:5]}')\n",
    "plt.hist(y_pred_mlp.reshape(1, -1)[0], bins=100, label='PREDICTION')\n",
    "plt.hist(y_test.reshape(1, -1)[0], bins=100, label='GT')\n",
    "plt.legend()\n",
    "plt.grid();"
   ]
  }
 ],
 "metadata": {
  "colab": {
   "provenance": []
  },
  "kernelspec": {
   "display_name": "Python 3 (ipykernel)",
   "language": "python",
   "name": "python3"
  },
  "language_info": {
   "codemirror_mode": {
    "name": "ipython",
    "version": 3
   },
   "file_extension": ".py",
   "mimetype": "text/x-python",
   "name": "python",
   "nbconvert_exporter": "python",
   "pygments_lexer": "ipython3",
   "version": "3.11.1"
  }
 },
 "nbformat": 4,
 "nbformat_minor": 5
}
